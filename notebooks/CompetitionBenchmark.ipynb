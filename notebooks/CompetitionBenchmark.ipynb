{
 "cells": [
  {
   "cell_type": "code",
   "execution_count": 12,
   "metadata": {},
   "outputs": [],
   "source": [
    "import os\n",
    "import pandas as pdÇ\n",
    "from sklearn import metrics\n",
    "import matplotlib.pyplot as plt\n",
    "import stylia as st\n",
    "from stylia import NamedColors\n",
    "from stylia import ContinuousColorMap\n",
    "from stylia import TWO_COLUMNS_WIDTH\n",
    "\n",
    "DATAPATH = \"../data\"\n",
    "FIGUREPATH = \"../figures\""
   ]
  },
  {
   "cell_type": "code",
   "execution_count": 2,
   "metadata": {},
   "outputs": [
    {
     "data": {
      "text/html": [
       "<div>\n",
       "<style scoped>\n",
       "    .dataframe tbody tr th:only-of-type {\n",
       "        vertical-align: middle;\n",
       "    }\n",
       "\n",
       "    .dataframe tbody tr th {\n",
       "        vertical-align: top;\n",
       "    }\n",
       "\n",
       "    .dataframe thead th {\n",
       "        text-align: right;\n",
       "    }\n",
       "</style>\n",
       "<table border=\"1\" class=\"dataframe\">\n",
       "  <thead>\n",
       "    <tr style=\"text-align: right;\">\n",
       "      <th></th>\n",
       "      <th>osm</th>\n",
       "      <th>smiles</th>\n",
       "      <th>activity</th>\n",
       "      <th>reg_pred_25</th>\n",
       "      <th>reg_pred_1</th>\n",
       "      <th>bin_activity_2.5</th>\n",
       "      <th>bin_activity_1</th>\n",
       "      <th>bin_proba_2.5</th>\n",
       "      <th>bin_proba_1</th>\n",
       "    </tr>\n",
       "  </thead>\n",
       "  <tbody>\n",
       "    <tr>\n",
       "      <th>0</th>\n",
       "      <td>OSM-LO-6</td>\n",
       "      <td>OCC(COc1cncc2nnc(-c3ccc(OC(F)F)cc3)n12)c1cccc(...</td>\n",
       "      <td>0.094</td>\n",
       "      <td>0.451128</td>\n",
       "      <td>0.733958</td>\n",
       "      <td>1</td>\n",
       "      <td>1</td>\n",
       "      <td>0.765045</td>\n",
       "      <td>0.539565</td>\n",
       "    </tr>\n",
       "    <tr>\n",
       "      <th>1</th>\n",
       "      <td>OSM-LO-5</td>\n",
       "      <td>COc1cccc(C(CO)COc2cncc3nnc(-c4ccc(OC(F)F)cc4)n...</td>\n",
       "      <td>0.124</td>\n",
       "      <td>0.550631</td>\n",
       "      <td>0.814871</td>\n",
       "      <td>1</td>\n",
       "      <td>1</td>\n",
       "      <td>0.735014</td>\n",
       "      <td>0.525966</td>\n",
       "    </tr>\n",
       "    <tr>\n",
       "      <th>2</th>\n",
       "      <td>OSM-LO-2</td>\n",
       "      <td>OCC(COc1cncc2nnc(-c3ccc(OC(F)F)cc3)n12)c1ccccc1F</td>\n",
       "      <td>0.159</td>\n",
       "      <td>0.464970</td>\n",
       "      <td>1.069919</td>\n",
       "      <td>1</td>\n",
       "      <td>1</td>\n",
       "      <td>0.750659</td>\n",
       "      <td>0.439976</td>\n",
       "    </tr>\n",
       "    <tr>\n",
       "      <th>3</th>\n",
       "      <td>OSM-LO-8</td>\n",
       "      <td>OCC(COc1cncc2nnc(-c3ccc(OC(F)F)cc3)n12)c1cc(F)...</td>\n",
       "      <td>0.190</td>\n",
       "      <td>0.380370</td>\n",
       "      <td>0.448952</td>\n",
       "      <td>1</td>\n",
       "      <td>1</td>\n",
       "      <td>0.755592</td>\n",
       "      <td>0.466987</td>\n",
       "    </tr>\n",
       "    <tr>\n",
       "      <th>4</th>\n",
       "      <td>OSM-LO-4</td>\n",
       "      <td>COc1ccccc1C(CO)COc1cncc2nnc(-c3ccc(OC(F)F)cc3)n12</td>\n",
       "      <td>0.304</td>\n",
       "      <td>0.613385</td>\n",
       "      <td>2.058000</td>\n",
       "      <td>1</td>\n",
       "      <td>1</td>\n",
       "      <td>0.711257</td>\n",
       "      <td>0.400000</td>\n",
       "    </tr>\n",
       "  </tbody>\n",
       "</table>\n",
       "</div>"
      ],
      "text/plain": [
       "        osm                                             smiles  activity  \\\n",
       "0  OSM-LO-6  OCC(COc1cncc2nnc(-c3ccc(OC(F)F)cc3)n12)c1cccc(...     0.094   \n",
       "1  OSM-LO-5  COc1cccc(C(CO)COc2cncc3nnc(-c4ccc(OC(F)F)cc4)n...     0.124   \n",
       "2  OSM-LO-2   OCC(COc1cncc2nnc(-c3ccc(OC(F)F)cc3)n12)c1ccccc1F     0.159   \n",
       "3  OSM-LO-8  OCC(COc1cncc2nnc(-c3ccc(OC(F)F)cc3)n12)c1cc(F)...     0.190   \n",
       "4  OSM-LO-4  COc1ccccc1C(CO)COc1cncc2nnc(-c3ccc(OC(F)F)cc3)n12     0.304   \n",
       "\n",
       "   reg_pred_25  reg_pred_1  bin_activity_2.5  bin_activity_1  bin_proba_2.5  \\\n",
       "0     0.451128    0.733958                 1               1       0.765045   \n",
       "1     0.550631    0.814871                 1               1       0.735014   \n",
       "2     0.464970    1.069919                 1               1       0.750659   \n",
       "3     0.380370    0.448952                 1               1       0.755592   \n",
       "4     0.613385    2.058000                 1               1       0.711257   \n",
       "\n",
       "   bin_proba_1  \n",
       "0     0.539565  \n",
       "1     0.525966  \n",
       "2     0.439976  \n",
       "3     0.466987  \n",
       "4     0.400000  "
      ]
     },
     "execution_count": 2,
     "metadata": {},
     "output_type": "execute_result"
    }
   ],
   "source": [
    "df = pd.read_csv(os.path.join(DATAPATH, \"competition_results.csv\"))\n",
    "df.head()"
   ]
  },
  {
   "cell_type": "code",
   "execution_count": 10,
   "metadata": {},
   "outputs": [
    {
     "data": {
      "image/png": "[encoded data removed]",
      "text/plain": [
       "<Figure size 709x354.5 with 2 Axes>"
      ]
     },
     "metadata": {},
     "output_type": "display_data"
    }
   ],
   "source": [
    "fig, axs = st.create_figure(1,2, width=TWO_COLUMNS_WIDTH, height=TWO_COLUMNS_WIDTH/2)\n",
    "\n",
    "ax0 = axs[0]\n",
    "ax0.scatter(x=df[\"activity\"], y=df[\"reg_pred_25\"])\n",
    "st.label(ax0, title=\"Regression 2.5 uM\", xlabel=\"IC50 (uM)\", ylabel = \"Predicted IC50(uM)\")\n",
    "ax1 = axs[1]\n",
    "ax1.scatter(x=df[\"activity\"], y=df[\"reg_pred_1\"])\n",
    "st.label(ax1, title=\"Regression 1 uM\", xlabel=\"IC50 (uM)\", ylabel = \"Predicted IC50(uM)\")"
   ]
  },
  {
   "cell_type": "code",
   "execution_count": 20,
   "metadata": {},
   "outputs": [],
   "source": [
    "yt_1 = [1 if x <= 1 else 0 for x in df[\"activity\"]]\n",
    "yt_25 = [1 if x <= 2.5 else 0 for x in df[\"activity\"]]\n",
    "\n",
    "fpr25, tpr25, _ = metrics.roc_curve(yt_25, df[\"bin_proba_2.5\"])\n",
    "roc_auc25 = metrics.roc_auc_score(yt_25, df[\"bin_proba_2.5\"])\n",
    "\n",
    "fpr1, tpr1, _ = metrics.roc_curve(yt_1, df[\"bin_proba_1\"])\n",
    "roc_auc1 = metrics.roc_auc_score(yt_1, df[\"bin_proba_1\"])"
   ]
  },
  {
   "cell_type": "code",
   "execution_count": 27,
   "metadata": {},
   "outputs": [
    {
     "data": {
      "image/png": "[encoded data removed]",
      "text/plain": [
       "<Figure size 709x354.5 with 2 Axes>"
      ]
     },
     "metadata": {},
     "output_type": "display_data"
    }
   ],
   "source": [
    "fig, axs = st.create_figure(1,2, width=TWO_COLUMNS_WIDTH, height=TWO_COLUMNS_WIDTH/2)\n",
    "\n",
    "ax0 = axs[0]\n",
    "ax0.plot(fpr25, tpr25, label = roc_auc25)\n",
    "st.label(ax0, title=\"Classification 2.5 uM; AUROC: {}\".format(round(roc_auc25,3), xlabel=\"1-Specificity (FPR)\", ylabel=\"Sensitivity (TPR)\"))\n",
    "ax1 = axs[1]\n",
    "ax1.plot(fpr1, tpr1, label = roc_auc1)\n",
    "st.label(ax1, title=\"Classification 1 uM; AUROC: {}\".format(round(roc_auc1,3), xlabel=\"1-Specificity (FPR)\", ylabel=\"Sensitivity (TPR)\"))"
   ]
  },
  {
   "cell_type": "code",
   "execution_count": 39,
   "metadata": {},
   "outputs": [],
   "source": [
    "def plot_conf_matrix(ax, yt, yp):\n",
    "    # Calculate confusion matrix\n",
    "    conf_matrix = np.zeros((2, 2))\n",
    "    for true, pred in zip(yt,yp):\n",
    "        conf_matrix[true][pred] += 1\n",
    "\n",
    "    # Plot confusion matrix\n",
    "    ax.imshow(conf_matrix, cmap='Blues', interpolation='nearest')\n",
    "    ax.set_xticks([0, 1], ['0', '1'])\n",
    "    ax.set_yticks([0, 1], ['0', '1'])\n",
    "    # Display values in the cells\n",
    "    for i in range(2):\n",
    "        for j in range(2):\n",
    "            ax.text(j, i, str(int(conf_matrix[i, j])),\n",
    "                    ha='center', va='center', color='black')"
   ]
  },
  {
   "cell_type": "code",
   "execution_count": 52,
   "metadata": {},
   "outputs": [
    {
     "data": {
      "image/png": "[encoded data removed]",
      "text/plain": [
       "<Figure size 709x354.5 with 2 Axes>"
      ]
     },
     "metadata": {},
     "output_type": "display_data"
    }
   ],
   "source": [
    "fig, axs = st.create_figure(1,2, width=TWO_COLUMNS_WIDTH, height=TWO_COLUMNS_WIDTH/2)\n",
    "\n",
    "ax = axs.next()\n",
    "yp_25 = [1 if x > 0.5 else 0 for x in df[\"bin_proba_2.5\"] ]\n",
    "plot_conf_matrix(ax, yt_25, yp_25)\n",
    "st.label(ax, title=\"Classification 2.5 uM\", xlabel=\"Predicted\", ylabel=\"True\")\n",
    "ax = axs.next()\n",
    "yp_1 = [1 if x > 0.5 else 0 for x in df[\"bin_proba_1\"] ]\n",
    "plot_conf_matrix(ax, yt_1, yp_1)\n",
    "st.label(ax, title=\"Classification 1 uM\", xlabel=\"Predicted\", ylabel=\"True\")\n"
   ]
  }
 ],
 "metadata": {
  "kernelspec": {
   "display_name": "chem",
   "language": "python",
   "name": "python3"
  },
  "language_info": {
   "codemirror_mode": {
    "name": "ipython",
    "version": 3
   },
   "file_extension": ".py",
   "mimetype": "text/x-python",
   "name": "python",
   "nbconvert_exporter": "python",
   "pygments_lexer": "ipython3",
   "version": "3.11.8"
  }
 },
 "nbformat": 4,
 "nbformat_minor": 2
}
